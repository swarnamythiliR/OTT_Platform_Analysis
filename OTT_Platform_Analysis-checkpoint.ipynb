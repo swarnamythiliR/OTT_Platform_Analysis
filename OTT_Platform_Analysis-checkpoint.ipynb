{
 "cells": [
  {
   "cell_type": "markdown",
   "id": "5a38aef8",
   "metadata": {},
   "source": [
    "# Movie analysis on OTT platforms\n",
    "# Author: R.Swarnamythili\n"
   ]
  },
  {
   "cell_type": "markdown",
   "id": "90fab4a8",
   "metadata": {},
   "source": [
    "###### This notebook contain various plots and visuals justifying variation in movies on OTT platforms like Amazon Prime, Netflix, Hulu and Disney+. This notebook also demonstrates the type movies produced and their strengths in drawing viewers. Direct relationships have been drawn with the various other features like Rotten Tomatoes rating, Generes, etc. and all have been demonstrated in plots and have been explained."
   ]
  },
  {
   "cell_type": "markdown",
   "id": "177f0f21",
   "metadata": {},
   "source": [
    "## Project name: OTT Platforms Analysis"
   ]
  },
  {
   "cell_type": "markdown",
   "id": "9dd6bf15",
   "metadata": {},
   "source": [
    "### Project type: ED Analysis"
   ]
  },
  {
   "cell_type": "markdown",
   "id": "86bf061e",
   "metadata": {},
   "source": [
    "# Summary\n",
    "The provided data has 16744 rows and 16 columns. There are two features \"Age\" and \"Rotten Tomatoes\" with NULL values >50% of the available data points. There are 5 columns which are of Integer data-type, 6 of Object type and the rest are of Float type. The data set contains data ranging from 1900 to the year 2020.\n",
    "\n",
    "The Data consists of 4 major OTT platforms: \"Netflix\", \"Hulu\", \"Prime videos\" and \"Disney+\". The columns: \"IMDb\" and \"Rotten Tomatoes\" are to be considered as an Interval data of type Numeric. Some of the columns like \"Year\" and \"Age\" need to binned. for further analysis."
   ]
  },
  {
   "cell_type": "code",
   "execution_count": 6,
   "id": "bc370e4e",
   "metadata": {},
   "outputs": [
    {
     "data": {
      "text/html": [
       "<table border=\"1\" class=\"dataframe\">\n",
       "  <thead>\n",
       "    <tr style=\"text-align: right;\">\n",
       "      <th></th>\n",
       "      <th>ID</th>\n",
       "      <th>Title</th>\n",
       "      <th>Year</th>\n",
       "      <th>Age</th>\n",
       "      <th>IMDb</th>\n",
       "      <th>Rotten Tomatoes</th>\n",
       "      <th>Netflix</th>\n",
       "      <th>Hulu</th>\n",
       "      <th>Prime Video</th>\n",
       "      <th>Disney+</th>\n",
       "      <th>Type</th>\n",
       "      <th>Directors</th>\n",
       "      <th>Genres</th>\n",
       "      <th>Country</th>\n",
       "      <th>Language</th>\n",
       "      <th>Runtime</th>\n",
       "    </tr>\n",
       "  </thead>\n",
       "  <tbody>\n",
       "    <tr>\n",
       "      <th>0</th>\n",
       "      <td>1</td>\n",
       "      <td>Inception</td>\n",
       "      <td>2010</td>\n",
       "      <td>13+</td>\n",
       "      <td>8.8</td>\n",
       "      <td>87%</td>\n",
       "      <td>1</td>\n",
       "      <td>0</td>\n",
       "      <td>0</td>\n",
       "      <td>0</td>\n",
       "      <td>0</td>\n",
       "      <td>Christopher Nolan</td>\n",
       "      <td>Action,Adventure,Sci-Fi,Thriller</td>\n",
       "      <td>United States,United Kingdom</td>\n",
       "      <td>English,Japanese,French</td>\n",
       "      <td>148.0</td>\n",
       "    </tr>\n",
       "    <tr>\n",
       "      <th>1</th>\n",
       "      <td>2</td>\n",
       "      <td>The Matrix</td>\n",
       "      <td>1999</td>\n",
       "      <td>18+</td>\n",
       "      <td>8.7</td>\n",
       "      <td>87%</td>\n",
       "      <td>1</td>\n",
       "      <td>0</td>\n",
       "      <td>0</td>\n",
       "      <td>0</td>\n",
       "      <td>0</td>\n",
       "      <td>Lana Wachowski,Lilly Wachowski</td>\n",
       "      <td>Action,Sci-Fi</td>\n",
       "      <td>United States</td>\n",
       "      <td>English</td>\n",
       "      <td>136.0</td>\n",
       "    </tr>\n",
       "    <tr>\n",
       "      <th>2</th>\n",
       "      <td>3</td>\n",
       "      <td>Avengers: Infinity War</td>\n",
       "      <td>2018</td>\n",
       "      <td>13+</td>\n",
       "      <td>8.5</td>\n",
       "      <td>84%</td>\n",
       "      <td>1</td>\n",
       "      <td>0</td>\n",
       "      <td>0</td>\n",
       "      <td>0</td>\n",
       "      <td>0</td>\n",
       "      <td>Anthony Russo,Joe Russo</td>\n",
       "      <td>Action,Adventure,Sci-Fi</td>\n",
       "      <td>United States</td>\n",
       "      <td>English</td>\n",
       "      <td>149.0</td>\n",
       "    </tr>\n",
       "    <tr>\n",
       "      <th>3</th>\n",
       "      <td>4</td>\n",
       "      <td>Back to the Future</td>\n",
       "      <td>1985</td>\n",
       "      <td>7+</td>\n",
       "      <td>8.5</td>\n",
       "      <td>96%</td>\n",
       "      <td>1</td>\n",
       "      <td>0</td>\n",
       "      <td>0</td>\n",
       "      <td>0</td>\n",
       "      <td>0</td>\n",
       "      <td>Robert Zemeckis</td>\n",
       "      <td>Adventure,Comedy,Sci-Fi</td>\n",
       "      <td>United States</td>\n",
       "      <td>English</td>\n",
       "      <td>116.0</td>\n",
       "    </tr>\n",
       "    <tr>\n",
       "      <th>4</th>\n",
       "      <td>5</td>\n",
       "      <td>The Good, the Bad and the Ugly</td>\n",
       "      <td>1966</td>\n",
       "      <td>18+</td>\n",
       "      <td>8.8</td>\n",
       "      <td>97%</td>\n",
       "      <td>1</td>\n",
       "      <td>0</td>\n",
       "      <td>1</td>\n",
       "      <td>0</td>\n",
       "      <td>0</td>\n",
       "      <td>Sergio Leone</td>\n",
       "      <td>Western</td>\n",
       "      <td>Italy,Spain,West Germany</td>\n",
       "      <td>Italian</td>\n",
       "      <td>161.0</td>\n",
       "    </tr>\n",
       "    <tr>\n",
       "      <th>5</th>\n",
       "      <td>6</td>\n",
       "      <td>Spider-Man: Into the Spider-Verse</td>\n",
       "      <td>2018</td>\n",
       "      <td>7+</td>\n",
       "      <td>8.4</td>\n",
       "      <td>97%</td>\n",
       "      <td>1</td>\n",
       "      <td>0</td>\n",
       "      <td>0</td>\n",
       "      <td>0</td>\n",
       "      <td>0</td>\n",
       "      <td>Bob Persichetti,Peter Ramsey,Rodney Rothman</td>\n",
       "      <td>Animation,Action,Adventure,Family,Sci-Fi</td>\n",
       "      <td>United States</td>\n",
       "      <td>English,Spanish</td>\n",
       "      <td>117.0</td>\n",
       "    </tr>\n",
       "    <tr>\n",
       "      <th>6</th>\n",
       "      <td>7</td>\n",
       "      <td>The Pianist</td>\n",
       "      <td>2002</td>\n",
       "      <td>18+</td>\n",
       "      <td>8.5</td>\n",
       "      <td>95%</td>\n",
       "      <td>1</td>\n",
       "      <td>0</td>\n",
       "      <td>1</td>\n",
       "      <td>0</td>\n",
       "      <td>0</td>\n",
       "      <td>Roman Polanski</td>\n",
       "      <td>Biography,Drama,Music,War</td>\n",
       "      <td>United Kingdom,France,Poland,Germany</td>\n",
       "      <td>English,German,Russian</td>\n",
       "      <td>150.0</td>\n",
       "    </tr>\n",
       "    <tr>\n",
       "      <th>7</th>\n",
       "      <td>8</td>\n",
       "      <td>Django Unchained</td>\n",
       "      <td>2012</td>\n",
       "      <td>18+</td>\n",
       "      <td>8.4</td>\n",
       "      <td>87%</td>\n",
       "      <td>1</td>\n",
       "      <td>0</td>\n",
       "      <td>0</td>\n",
       "      <td>0</td>\n",
       "      <td>0</td>\n",
       "      <td>Quentin Tarantino</td>\n",
       "      <td>Drama,Western</td>\n",
       "      <td>United States</td>\n",
       "      <td>English,German,French,Italian</td>\n",
       "      <td>165.0</td>\n",
       "    </tr>\n",
       "    <tr>\n",
       "      <th>8</th>\n",
       "      <td>9</td>\n",
       "      <td>Raiders of the Lost Ark</td>\n",
       "      <td>1981</td>\n",
       "      <td>7+</td>\n",
       "      <td>8.4</td>\n",
       "      <td>95%</td>\n",
       "      <td>1</td>\n",
       "      <td>0</td>\n",
       "      <td>0</td>\n",
       "      <td>0</td>\n",
       "      <td>0</td>\n",
       "      <td>Steven Spielberg</td>\n",
       "      <td>Action,Adventure</td>\n",
       "      <td>United States</td>\n",
       "      <td>English,German,Hebrew,Spanish,Arabic,Nepali</td>\n",
       "      <td>115.0</td>\n",
       "    </tr>\n",
       "    <tr>\n",
       "      <th>9</th>\n",
       "      <td>10</td>\n",
       "      <td>Inglourious Basterds</td>\n",
       "      <td>2009</td>\n",
       "      <td>18+</td>\n",
       "      <td>8.3</td>\n",
       "      <td>89%</td>\n",
       "      <td>1</td>\n",
       "      <td>0</td>\n",
       "      <td>0</td>\n",
       "      <td>0</td>\n",
       "      <td>0</td>\n",
       "      <td>Quentin Tarantino</td>\n",
       "      <td>Adventure,Drama,War</td>\n",
       "      <td>Germany,United States</td>\n",
       "      <td>English,German,French,Italian</td>\n",
       "      <td>153.0</td>\n",
       "    </tr>\n",
       "  </tbody>\n",
       "</table>"
      ],
      "text/plain": [
       "<IPython.core.display.HTML object>"
      ]
     },
     "execution_count": 6,
     "metadata": {},
     "output_type": "execute_result"
    }
   ],
   "source": [
    "import pandas as pd\n",
    "import numpy as np\n",
    "import matplotlib.pyplot as plt\n",
    "import seaborn as sns\n",
    "from scipy import stats\n",
    "%matplotlib inline\n",
    "import matplotlib.pyplot as plt\n",
    "from IPython.display import HTML\n",
    "path=r'C:\\Users\\WELCOME\\Downloads\\MoviesOnStreamingPlatforms_updated\\MoviesOnStreamingPlatforms_updated.csv'\n",
    "main_df = pd.read_csv(path)\n",
    "list_of_columns = [list(main_df.columns)] # Define columns\n",
    "main_df.drop(columns = \"Unnamed: 0\", inplace = True)\n",
    "main_df_show = main_df.head(10)\n",
    "HTML(main_df_show.to_html(escape=False))"
   ]
  },
  {
   "cell_type": "markdown",
   "id": "2aeeabc8",
   "metadata": {},
   "source": [
    "# Analysis and observations\n",
    "(There were a lot of missing points in the data set. An analysis has been done excluding those point)\n",
    "\n",
    "As per the available data, the \"Prime video\" has the highest number movies followed by \"Netflix\". \"Disney+\" has the lowest number of movies casted.\n",
    "Most of the movies produced were \"Drama\" followed by \"Comedy\". Almost negligible number of movies produced were of \"Game-Show\" genre.\n",
    "The number of movies released under the genres \"Reality-TV\", \"Talk-Show\", \"Film-Noire\" and \"News\" were a lot less as compared to other genres.\n",
    "The number of movies produced throughout under \"Musical\" and \"Short\" genres were almost similar.\n",
    "As there were a large number of missing data, after removing those values it is seen that most of the movies prduced had \"Rotten Tomatoes\" rating >81% followed by 61% - 80%. The least number of movies produced had <20%.\n",
    "Most of the movies released were of age group 18+. The least number of movies produced were of age group 16+.\n",
    "Majority of the movies were released between 2000 and 2020. The least number of movies released were between 1900 and 1900.\n",
    "According to the data, it is seen that the frequency of movie production increased along with an increase in Year. They both exhibit a positive correlation.\n",
    "Majority of the movies has an IMDb rating ranging between 5-6 followed by 7-8.\n",
    "The least number of movies got an IMDb rating between 9-10.\n",
    "On the basis of given data, we can say that majority of the movies in these 4 OTT platforms are average or more than average IMDb rated."
   ]
  },
  {
   "cell_type": "code",
   "execution_count": 7,
   "id": "ac63852c",
   "metadata": {},
   "outputs": [
    {
     "name": "stdout",
     "output_type": "stream",
     "text": [
      "Year -> int64\n",
      "Age -> object\n",
      "IMDb -> float64\n",
      "Rotten Tomatoes -> object\n",
      "Netflix -> int64\n",
      "Hulu -> int64\n",
      "Prime Video -> int64\n",
      "Disney+ -> int64\n",
      "Directors -> object\n",
      "Genres -> object\n",
      "Country -> object\n",
      "Language -> object\n",
      "Runtime -> float64\n"
     ]
    }
   ],
   "source": [
    "df = main_df\n",
    "df.drop(columns = \"ID\", inplace = True)\n",
    "df.drop(columns = \"Type\", inplace = True)\n",
    "\n",
    "def cols(df_col):\n",
    "    for c in df_col:\n",
    "        if c != \"Title\":\n",
    "            print(\"{} -> {}\".format(c, df[c].dtype))\n",
    "cols(df.columns.to_list())\n",
    "\n",
    "df[\"Runtime\"] = df[\"Runtime\"].apply(lambda x: x//60)"
   ]
  },
  {
   "cell_type": "code",
   "execution_count": 8,
   "id": "b4b981c9",
   "metadata": {},
   "outputs": [
    {
     "name": "stdout",
     "output_type": "stream",
     "text": [
      "\"NA values in %ge\"\n",
      "\n",
      "Year -> 0.0%\n",
      "\n",
      "Age -> 56.08%\n",
      "\n",
      "IMDb -> 3.41%\n",
      "\n",
      "Rotten Tomatoes -> 69.19%\n",
      "\n",
      "Netflix -> 0.0%\n",
      "\n",
      "Hulu -> 0.0%\n",
      "\n",
      "Prime Video -> 0.0%\n",
      "\n",
      "Disney+ -> 0.0%\n",
      "\n",
      "Genres -> 1.64%\n",
      "\n",
      "Country -> 2.6%\n",
      "\n",
      "Language -> 3.58%\n",
      "\n",
      "Runtime -> 3.54%\n",
      "\n"
     ]
    }
   ],
   "source": [
    "def vals(cols):\n",
    "    print(\"\\\"NA values in %ge\\\"\\n\")\n",
    "    for c in cols:\n",
    "        if c not in [\"Title\", \"Directors\"]:\n",
    "            print(\"{} -> {}%\\n\".format(c, round(100*(df[c].isna().sum()/len(df)),2)))\n",
    "vals(df.columns.to_list())"
   ]
  },
  {
   "cell_type": "code",
   "execution_count": 9,
   "id": "79356d75",
   "metadata": {},
   "outputs": [
    {
     "name": "stderr",
     "output_type": "stream",
     "text": [
      "<ipython-input-9-e9de868ee88e>:12: SettingWithCopyWarning: \n",
      "A value is trying to be set on a copy of a slice from a DataFrame\n",
      "\n",
      "See the caveats in the documentation: https://pandas.pydata.org/pandas-docs/stable/user_guide/indexing.html#returning-a-view-versus-a-copy\n",
      "  df[\"Rotten Tomatoes\"][row] = int(row)\n",
      "<ipython-input-9-e9de868ee88e>:27: SettingWithCopyWarning: \n",
      "A value is trying to be set on a copy of a slice from a DataFrame\n",
      "\n",
      "See the caveats in the documentation: https://pandas.pydata.org/pandas-docs/stable/user_guide/indexing.html#returning-a-view-versus-a-copy\n",
      "  df[\"IMDb\"][row] = float(row)\n",
      "c:\\users\\welcome\\appdata\\local\\programs\\python\\python38\\lib\\site-packages\\pandas\\core\\indexing.py:1637: SettingWithCopyWarning: \n",
      "A value is trying to be set on a copy of a slice from a DataFrame\n",
      "\n",
      "See the caveats in the documentation: https://pandas.pydata.org/pandas-docs/stable/user_guide/indexing.html#returning-a-view-versus-a-copy\n",
      "  self._setitem_single_block(indexer, value, name)\n",
      "<ipython-input-9-e9de868ee88e>:41: SettingWithCopyWarning: \n",
      "A value is trying to be set on a copy of a slice from a DataFrame.\n",
      "Try using .loc[row_indexer,col_indexer] = value instead\n",
      "\n",
      "See the caveats in the documentation: https://pandas.pydata.org/pandas-docs/stable/user_guide/indexing.html#returning-a-view-versus-a-copy\n",
      "  df_chan[dfcol] = df_chan[dfcol].apply(lambda x: dfcol if x == 1 else \"NA\")\n"
     ]
    }
   ],
   "source": [
    "df[\"Year\"] = df[\"Year\"].astype(int)\n",
    "df[\"Year_Bin\"] = df[\"Year\"].apply(lambda x: \"1919-1900\" if x >= 1900 and x <= 1919 else \"1939-1920\" \n",
    "                                  if x >= 1920 and x <= 1939 else \"1959 - 1940\" if x >= 1940 and x <= 1959\n",
    "                                  else \"1979-1960\" if x >= 1960 and x <= 1979 else \"1999-1980\" if x >= 1980 \n",
    "                                  and x <= 1999 else \"2020-2000\")\n",
    "\n",
    "df[\"Rotten Tomatoes\"] = df[\"Rotten Tomatoes\"].fillna(\"NA\")\n",
    "df[\"Rotten Tomatoes\"] = df[\"Rotten Tomatoes\"].apply(lambda x: x.strip(\"%\"))\n",
    "\n",
    "for row in df[\"Rotten Tomatoes\"]:\n",
    "    if row != \"NA\":\n",
    "        df[\"Rotten Tomatoes\"][row] = int(row)\n",
    "\n",
    "df_tomatoes = df[\"Rotten Tomatoes\"]\n",
    "df_tomatoes.replace(\"NA\", np.nan, inplace = True)\n",
    "df_tomatoes.dropna(inplace = True)\n",
    "\n",
    "df_tomatoes = df_tomatoes.astype(int)\n",
    "df_tomatoes = df_tomatoes.apply(lambda x: \"<20%\" if x >= 0 and x < 20 else \"20%-40%\" \n",
    "                                if x >= 20 and x <= 40 else \"41%60%\" if x >= 41 and x <= 60\n",
    "                                else \"61%-80%\" if x >= 61 and x <= 80 else \">81%\")\n",
    "\n",
    "df[\"IMDb\"] = df[\"IMDb\"].fillna(\"NA\")\n",
    "\n",
    "for row in df[\"IMDb\"]:\n",
    "    if row != \"NA\":\n",
    "        df[\"IMDb\"][row] = float(row)\n",
    "\n",
    "df_imdb = df[\"IMDb\"]\n",
    "df_imdb.replace(\"NA\", np.nan, inplace = True)\n",
    "df_imdb.dropna(inplace = True)\n",
    "\n",
    "df_imdb = df_imdb.astype(float)\n",
    "df_imdb = df_imdb.apply(lambda x: \"<2\" if x >= 0.0 and x < 3.0 else \"3-4\" \n",
    "                                if x >= 3.0 and x < 5.0 else \"5-6\" if x >= 5.0 and x < 7.0\n",
    "                                else \"7-8\" if x >= 7.0 and x < 9 else \">9\")\n",
    "\n",
    "df_chan = df[[\"Netflix\", \"Hulu\", \"Prime Video\", \"Disney+\"]]\n",
    "\n",
    "def dfchan(dfcol):\n",
    "    df_chan[dfcol] = df_chan[dfcol].apply(lambda x: dfcol if x == 1 else \"NA\")\n",
    "for col in df_chan.columns:\n",
    "    dfchan(col)"
   ]
  },
  {
   "cell_type": "code",
   "execution_count": 10,
   "id": "78f0792d",
   "metadata": {},
   "outputs": [],
   "source": [
    "Netflix_Count = 0\n",
    "Other_Netflix_Count = 0\n",
    "for row in df_chan[\"Netflix\"].to_list():\n",
    "    if row == \"Netflix\":\n",
    "        Netflix_Count += 1\n",
    "    elif row == \"NA\":\n",
    "        Other_Netflix_Count += 1\n",
    "    else:\n",
    "        continue\n",
    "        \n",
    "Hulu_Count = 0\n",
    "Other_Hulu_Count = 0\n",
    "for row in df_chan[\"Hulu\"].to_list():\n",
    "    if row == \"Hulu\":\n",
    "        Hulu_Count += 1\n",
    "    elif row == \"NA\":\n",
    "        Other_Hulu_Count += 1\n",
    "    else:\n",
    "        continue\n",
    "        \n",
    "Prime_Video_Count = 0\n",
    "Other_Prime_Video_Count = 0\n",
    "for row in df_chan[\"Prime Video\"].to_list():\n",
    "    if row == \"Prime Video\":\n",
    "        Prime_Video_Count += 1\n",
    "    elif row == \"NA\":\n",
    "        Other_Prime_Video_Count += 1\n",
    "    else:\n",
    "        continue\n",
    "        \n",
    "Disney_Count = 0\n",
    "Other_Disney_Count = 0\n",
    "for row in df_chan[\"Disney+\"].to_list():\n",
    "    if row == \"Disney+\":\n",
    "        Disney_Count += 1\n",
    "    elif row == \"NA\":\n",
    "        Other_Disney_Count += 1\n",
    "    else:\n",
    "        continue\n",
    "        \n",
    "genre_col = df[\"Genres\"]\n",
    "genre_col.dropna(inplace = True)\n",
    "genre_col = [i.split(\",\") for i in genre_col]"
   ]
  },
  {
   "cell_type": "code",
   "execution_count": 11,
   "id": "54d5879a",
   "metadata": {},
   "outputs": [
    {
     "name": "stdout",
     "output_type": "stream",
     "text": [
      "Genre Frequency -> {'Action': 2683, 'Adventure': 1778, 'Sci-Fi': 1228, 'Thriller': 3354, 'Comedy': 4637, 'Western': 499, 'Animation': 711, 'Family': 1514, 'Biography': 821, 'Drama': 7227, 'Music': 667, 'War': 539, 'Crime': 1833, 'Fantasy': 1089, 'Romance': 2359, 'History': 715, 'Mystery': 1274, 'Horror': 2201, 'Sport': 404, 'Documentary': 2546, 'Musical': 401, 'News': 105, 'Short': 386, 'Reality-TV': 22, 'Talk-Show': 19, 'Game-Show': 7, 'Film-Noir': 79}\n",
      "\n",
      "Channel Frequency -> {'Netflix': 3560, 'Hulu': 903, 'Prime Video': 12354, 'Disney+': 564}\n"
     ]
    }
   ],
   "source": [
    "# Genre frequency\n",
    "genre_freq_dict, genre_freq_key_ls = {}, []\n",
    "for row in genre_col:\n",
    "    for _row in row:\n",
    "        if _row not in genre_freq_key_ls:\n",
    "            genre_freq_key_ls.append(_row)\n",
    "            genre_freq_dict[_row] = 1\n",
    "        else:\n",
    "            counter = genre_freq_dict[_row]\n",
    "            genre_freq_dict[_row] = counter + 1\n",
    "print(\"Genre Frequency ->\", genre_freq_dict)\n",
    "\n",
    "# Channel frequency\n",
    "channel_freq_dict, channel_freq_key_ls = {}, []\n",
    "channel_ls = [\"Netflix\", \"Hulu\", \"Prime Video\", \"Disney+\"]\n",
    "for channel in channel_ls:\n",
    "    for _row in df[channel]:\n",
    "        if int(_row) == 1:\n",
    "            if channel not in channel_freq_key_ls:\n",
    "                channel_freq_key_ls.append(channel)\n",
    "                channel_freq_dict[channel] = 1\n",
    "            else:\n",
    "                counter = channel_freq_dict[channel]\n",
    "                channel_freq_dict[channel] = counter + 1\n",
    "print()\n",
    "print(\"Channel Frequency ->\", channel_freq_dict)"
   ]
  },
  {
   "cell_type": "markdown",
   "id": "9719b72f",
   "metadata": {},
   "source": [
    "# Visuals and Analysis"
   ]
  },
  {
   "cell_type": "code",
   "execution_count": 12,
   "id": "2a3dc8c8",
   "metadata": {},
   "outputs": [
    {
     "data": {
      "text/plain": [
       "Text(0, 0.5, 'No. of movies')"
      ]
     },
     "execution_count": 12,
     "metadata": {},
     "output_type": "execute_result"
    },
    {
     "data": {
      "image/png": "[encoded data removed]",
      "text/plain": [
       "<Figure size 432x288 with 1 Axes>"
      ]
     },
     "metadata": {
      "needs_background": "light"
     },
     "output_type": "display_data"
    }
   ],
   "source": [
    "df['Year_Bin'].hist(grid=False, xlabelsize=8, ylabelsize=12, color = \"brown\")\n",
    "plt.xlabel(\"Release year\", fontsize=15)\n",
    "plt.ylabel(\"No. of movies\",fontsize=15)"
   ]
  },
  {
   "cell_type": "raw",
   "id": "609f3ad3",
   "metadata": {},
   "source": [
    "Maximum movies were released between 2000 and 2020\n",
    "Minimum movies were released between 1900 and 1900\n",
    "The frequency of movie production increases along with an increase in year"
   ]
  },
  {
   "cell_type": "code",
   "execution_count": 13,
   "id": "2947815c",
   "metadata": {},
   "outputs": [
    {
     "data": {
      "text/plain": [
       "Text(0, 0.5, 'No. of movies')"
      ]
     },
     "execution_count": 13,
     "metadata": {},
     "output_type": "execute_result"
    },
    {
     "data": {
      "image/png": "[encoded data removed]",
      "text/plain": [
       "<Figure size 432x288 with 1 Axes>"
      ]
     },
     "metadata": {
      "needs_background": "light"
     },
     "output_type": "display_data"
    }
   ],
   "source": [
    "df['Age'].hist(grid=False, xlabelsize=12, ylabelsize=12, color = \"lime\")\n",
    "plt.xlabel(\"Age restriction group\", fontsize=15)\n",
    "plt.ylabel(\"No. of movies\",fontsize=15)"
   ]
  },
  {
   "cell_type": "code",
   "execution_count": 14,
   "id": "7a1ce0a0",
   "metadata": {},
   "outputs": [
    {
     "data": {
      "text/plain": [
       "Text(0, 0.5, 'No. of movies')"
      ]
     },
     "execution_count": 14,
     "metadata": {},
     "output_type": "execute_result"
    },
    {
     "data": {
      "image/png": "[encoded data removed]",
      "text/plain": [
       "<Figure size 432x288 with 1 Axes>"
      ]
     },
     "metadata": {
      "needs_background": "light"
     },
     "output_type": "display_data"
    }
   ],
   "source": [
    "df_tomatoes.hist(grid=False, xlabelsize=12, ylabelsize=12, color = \"red\")\n",
    "plt.xlabel(\"Rotten Tomatoes\", fontsize=15)\n",
    "plt.ylabel(\"No. of movies\",fontsize=15)"
   ]
  },
  {
   "cell_type": "markdown",
   "id": "fabdd152",
   "metadata": {},
   "source": [
    "Most of the movies prduced had Rotten Tomatoes rating more than 81% followed by 61% - 80%.\n",
    "The least number of movies produced had Rotten Tomatoes rating less than 20%."
   ]
  },
  {
   "cell_type": "code",
   "execution_count": 15,
   "id": "6a6d6a7a",
   "metadata": {},
   "outputs": [
    {
     "data": {
      "text/plain": [
       "Text(0, 0.5, 'No. of movies')"
      ]
     },
     "execution_count": 15,
     "metadata": {},
     "output_type": "execute_result"
    },
    {
     "data": {
      "image/png": "[encoded data removed]",
      "text/plain": [
       "<Figure size 432x288 with 1 Axes>"
      ]
     },
     "metadata": {
      "needs_background": "light"
     },
     "output_type": "display_data"
    }
   ],
   "source": [
    "df_imdb.hist(grid=False, xlabelsize=12, ylabelsize=12, color = \"blue\")\n",
    "plt.xlabel(\"IMDb\", fontsize=15)\n",
    "plt.ylabel(\"No. of movies\",fontsize=15)"
   ]
  },
  {
   "cell_type": "raw",
   "id": "46fb98e5",
   "metadata": {},
   "source": [
    "Majority of the movies had an IMDb rating between 5-6\n",
    "The least number of movies had rating more or equal to 9\n",
    "The second highest peak in rating ranges between 7-8, followed by 3-5"
   ]
  },
  {
   "cell_type": "code",
   "execution_count": 16,
   "id": "9fce7220",
   "metadata": {},
   "outputs": [
    {
     "data": {
      "image/png": "[encoded data removed]",
      "text/plain": [
       "<Figure size 432x288 with 1 Axes>"
      ]
     },
     "metadata": {
      "needs_background": "light"
     },
     "output_type": "display_data"
    }
   ],
   "source": [
    "x_ax = [k for k in genre_freq_dict.keys()]\n",
    "y_ax = [k for k in genre_freq_dict.values()]\n",
    "fig = plt.figure()\n",
    "ax = fig.add_axes([0,0,1,1])\n",
    "genre = x_ax\n",
    "freq = y_ax\n",
    "ax.bar(genre,freq, color = \"purple\")\n",
    "plt.xticks(rotation='vertical')\n",
    "plt.xticks(size = 12)\n",
    "plt.yticks(size = 12)\n",
    "ax.set_ylabel('No. of movies', size = 15)\n",
    "ax.set_title('No. of movies vs. Genres', size = 15)\n",
    "plt.show()"
   ]
  },
  {
   "cell_type": "raw",
   "id": "ec8f0ecf",
   "metadata": {},
   "source": [
    "Maximum number of movies produced were \"Drama\" followed by \"Comedy\" genre\n",
    "Almost negligible number of movies produced were of \"Game-Show\" genre\n",
    "The number of movies released under \"Reality-TV\", \"Talk-Show\", \"Film-Noire\" and \"News\" genres were a lot less as compared to other genres\n",
    "The number of movies produced throughout under \"Musical\" and \"Short\" genres were almost similar"
   ]
  },
  {
   "cell_type": "code",
   "execution_count": 17,
   "id": "6d3ec82c",
   "metadata": {},
   "outputs": [
    {
     "data": {
      "image/png": "[encoded data removed]",
      "text/plain": [
       "<Figure size 432x288 with 1 Axes>"
      ]
     },
     "metadata": {
      "needs_background": "light"
     },
     "output_type": "display_data"
    }
   ],
   "source": [
    "x_aax = [k for k in channel_freq_dict.keys()]\n",
    "y_aax = [k for k in channel_freq_dict.values()]\n",
    "fig = plt.figure()\n",
    "ax = fig.add_axes([0,0,1,1])\n",
    "channel = x_aax\n",
    "freq = y_aax\n",
    "ax.bar(channel,freq, color = \"orange\")\n",
    "plt.xticks(rotation='horizontal')\n",
    "plt.xticks(size = 12)\n",
    "plt.yticks(size = 12)\n",
    "ax.set_ylabel('No. of movies', size = 15)\n",
    "ax.set_title('No. of movies vs. OTT platforms', size = 15)\n",
    "plt.show()"
   ]
  },
  {
   "cell_type": "raw",
   "id": "09433322",
   "metadata": {},
   "source": [
    "Prime Video had the highest number of movies in it as an OTT platform\n",
    "Disney+ had the lowest number of movies as compared to the other streaming service"
   ]
  },
  {
   "cell_type": "code",
   "execution_count": null,
   "id": "712359ac",
   "metadata": {},
   "outputs": [],
   "source": []
  }
 ],
 "metadata": {
  "kernelspec": {
   "display_name": "Python 3",
   "language": "python",
   "name": "python3"
  },
  "language_info": {
   "codemirror_mode": {
    "name": "ipython",
    "version": 3
   },
   "file_extension": ".py",
   "mimetype": "text/x-python",
   "name": "python",
   "nbconvert_exporter": "python",
   "pygments_lexer": "ipython3",
   "version": "3.8.0"
  }
 },
 "nbformat": 4,
 "nbformat_minor": 5
}
